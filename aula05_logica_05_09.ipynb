{
  "nbformat": 4,
  "nbformat_minor": 0,
  "metadata": {
    "colab": {
      "provenance": [],
      "authorship_tag": "ABX9TyPiNDmQkPHmUCxkwhd5veGg",
      "include_colab_link": true
    },
    "kernelspec": {
      "name": "python3",
      "display_name": "Python 3"
    },
    "language_info": {
      "name": "python"
    }
  },
  "cells": [
    {
      "cell_type": "markdown",
      "metadata": {
        "id": "view-in-github",
        "colab_type": "text"
      },
      "source": [
        "<a href=\"https://colab.research.google.com/github/Alexandreragovesi/big/blob/main/aula05_logica_05_09.ipynb\" target=\"_parent\"><img src=\"https://colab.research.google.com/assets/colab-badge.svg\" alt=\"Open In Colab\"/></a>"
      ]
    },
    {
      "cell_type": "code",
      "source": [
        "a = int(input('Digite A ' ))\n",
        "b = int(input(\"Digite B \" ))\n",
        "if a > b:\n",
        "  print (\"A maior que B: \" , a)\n",
        "else: \n",
        "  print (\"A menor que B: \" , b)  \n",
        "  "
      ],
      "metadata": {
        "id": "9pSYYX5afA_T"
      },
      "execution_count": null,
      "outputs": []
    },
    {
      "cell_type": "code",
      "source": [
        "letra = str(input('Digite uma letra :' ))\n",
        "if letra == \"a\":\n",
        "    print ('letra A valor 1')\n",
        "elif letra == \"b\":\n",
        "    print ('letra B valor 2')\n",
        "if letra == \"c\":\n",
        "    print ('letra c valor 3')\n",
        "elif letra == \"d\":\n",
        "    print ('letra d valor 4')   \n",
        "if letra == \"e\":\n",
        "    print ('letra e valor 5')\n",
        "elif letra == \"f\":\n",
        "    print ('letra f valor 6')   \n",
        "     "
      ],
      "metadata": {
        "id": "qmd-oxI7mwhD"
      },
      "execution_count": null,
      "outputs": []
    },
    {
      "cell_type": "code",
      "source": [
        "elevador = float(input('Digite o peso suportado pelo elevador :' ))\n",
        "pp1 = float(input('Digite o peso da pessoa n1 :' ))\n",
        "pp2 = float(input('Digite o peso da pessoa n2 :' ))\n",
        "pp3 = float(input('Digite o peso da pessoa n3 :' ))\n",
        "pp4 = float(input('Digite o peso da pessoa n4 :' ))\n",
        "pp5 = float(input('Digite o peso da pessoa n5 :' ))\n",
        " \n",
        "if (pp1+pp2+pp3+pp4+pp5 >= elevador ):\n",
        "    print('O peso maximo foi ultrapassado ')\n",
        "else:\n",
        "    print('O peso maximo não foi ultrapassado ')\n",
        "\n"
      ],
      "metadata": {
        "id": "2KnYVRTYr3wk"
      },
      "execution_count": null,
      "outputs": []
    },
    {
      "cell_type": "code",
      "source": [
        "obj = str(input(\"Olá digite 1 para lata, ou 2 para caixa :\" ))\n",
        "\n",
        "\n",
        "if obj == \"1\":\n",
        "    raio = float(input(\"Digite o raio da lata: \" ))    \n",
        "    altura = float(input(\"Digite a altura da lata: \" ))\n",
        "    volume1 = (3.14159*raio**2*altura)\n",
        "    print(\"O volume da lata é: \", volume1 )\n",
        "else:\n",
        "    altura = float (input(\"Digite a altura :\" ))\n",
        "    largura = float (input(\"Digite a largura: \"))\n",
        "    comprimento = float (input(\"Digite o comprimento: \" ))\n",
        "    volume2 = (altura*largura*comprimento)\n",
        "    print(\"O volume da caixa é: \", volume2 )\n",
        "\n",
        "    "
      ],
      "metadata": {
        "id": "-JJiGsGz9hNY"
      },
      "execution_count": null,
      "outputs": []
    }
  ]
}